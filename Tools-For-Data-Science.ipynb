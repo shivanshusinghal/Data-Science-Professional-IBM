{
    "cells": [
        {
            "metadata": {
                "collapsed": true
            },
            "cell_type": "markdown",
            "source": "# My Jupyter Notebook on IBM Watson Studio"
        },
        {
            "metadata": {},
            "cell_type": "markdown",
            "source": "**Shivanshu Singhal**\n<br>\nStudent"
        },
        {
            "metadata": {},
            "cell_type": "markdown",
            "source": "*I am interested in data science as it provides endless variety of application be in business analyst or data stewards. I can provide leaders with the valuable information they need to make confident decisions, propel businesses forward, drive change in communities, and so much more*"
        },
        {
            "metadata": {},
            "cell_type": "markdown",
            "source": "### The following code will return a random number between 1 and 20"
        },
        {
            "metadata": {},
            "cell_type": "code",
            "source": "import random\n\nRandom_int = random.randint(1,20)\n\nprint(Random_int)",
            "execution_count": 3,
            "outputs": [
                {
                    "output_type": "stream",
                    "text": "8\n",
                    "name": "stdout"
                }
            ]
        },
        {
            "metadata": {},
            "cell_type": "markdown",
            "source": "Interested Technologies:\n\n1. AI/Ml\n2. Iot\n3. Cloud\n4. Data Analytics\n\nGithub: https://github.com/shivanshusinghal\n\n> This concludes the assignment"
        }
    ],
    "metadata": {
        "kernelspec": {
            "name": "python3",
            "display_name": "Python 3.10",
            "language": "python"
        },
        "language_info": {
            "name": "python",
            "version": "3.10.9",
            "mimetype": "text/x-python",
            "codemirror_mode": {
                "name": "ipython",
                "version": 3
            },
            "pygments_lexer": "ipython3",
            "nbconvert_exporter": "python",
            "file_extension": ".py"
        }
    },
    "nbformat": 4,
    "nbformat_minor": 1
}