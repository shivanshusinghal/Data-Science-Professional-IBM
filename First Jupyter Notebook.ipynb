{
    "cells": [
        {
            "metadata": {},
            "cell_type": "markdown",
            "source": "# My Jupyter Notebook on IBM Watson Studio\n"
        },
        {
            "metadata": {},
            "cell_type": "markdown",
            "source": "**Shivanshu Singhal**\n<br>\nStudent"
        },
        {
            "metadata": {},
            "cell_type": "markdown",
            "source": "_I am interested in data science as it provides endless variety of application be in business analyst or data stewards. I can provide leaders with the valuable information they need to make confident decisions, propel businesses forward, drive change in communities, and so much more_"
        },
        {
            "metadata": {},
            "cell_type": "markdown",
            "source": "### The following code will return a random number between 1 and 20"
        },
        {
            "metadata": {},
            "cell_type": "code",
            "source": "import random\n\nRandom_int = random.randint(1,20)\n\nprint(Random_int)",
            "execution_count": 2,
            "outputs": [
                {
                    "output_type": "stream",
                    "text": "7\n",
                    "name": "stdout"
                }
            ]
        },
        {
            "metadata": {},
            "cell_type": "markdown",
            "source": "Interested Technologies:\n\n1. AI/ML\n2. Iot\n3. Cloud \n4. Data Analytics\n\n\nGithub: https://github.com/shivanshusinghal\n\n>This Concludes the assignment.\n    "
        },
        {
            "metadata": {},
            "cell_type": "code",
            "source": "",
            "execution_count": null,
            "outputs": []
        }
    ],
    "metadata": {
        "kernelspec": {
            "name": "python3",
            "display_name": "Python 3.10",
            "language": "python"
        },
        "language_info": {
            "name": "python",
            "version": "3.10.9",
            "mimetype": "text/x-python",
            "codemirror_mode": {
                "name": "ipython",
                "version": 3
            },
            "pygments_lexer": "ipython3",
            "nbconvert_exporter": "python",
            "file_extension": ".py"
        }
    },
    "nbformat": 4,
    "nbformat_minor": 1
}